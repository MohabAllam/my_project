{
 "cells": [
  {
   "cell_type": "markdown",
   "id": "f32334d5",
   "metadata": {},
   "source": [
    "### Add Summation Function"
   ]
  },
  {
   "cell_type": "code",
   "execution_count": null,
   "id": "dbf8a1be",
   "metadata": {},
   "outputs": [],
   "source": []
  },
  {
   "cell_type": "markdown",
   "id": "0baa4502",
   "metadata": {},
   "source": [
    "### Add Subtraction Function"
   ]
  },
  {
   "cell_type": "markdown",
   "id": "40e882b6",
   "metadata": {},
   "source": []
  }
 ],
 "metadata": {
  "kernelspec": {
   "display_name": "test",
   "language": "python",
   "name": "python3"
  },
  "language_info": {
   "codemirror_mode": {
    "name": "ipython",
    "version": 3
   },
   "file_extension": ".py",
   "mimetype": "text/x-python",
   "name": "python",
   "nbconvert_exporter": "python",
   "pygments_lexer": "ipython3",
   "version": "3.10.18"
  }
 },
 "nbformat": 4,
 "nbformat_minor": 5
}
