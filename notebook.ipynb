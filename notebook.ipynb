{
 "cells": [
  {
   "cell_type": "markdown",
   "id": "f32334d5",
   "metadata": {},
   "source": [
    "### Add Summation Function"
   ]
  },
  {
   "cell_type": "code",
   "execution_count": 2,
   "id": "dbf8a1be",
   "metadata": {},
   "outputs": [
    {
     "data": {
      "text/plain": [
       "15"
      ]
     },
     "execution_count": 2,
     "metadata": {},
     "output_type": "execute_result"
    }
   ],
   "source": [
    "def summ(x, y):\n",
    "    return x + y\n",
    "\n",
    "summ(10, 5)"
   ]
  },
  {
   "cell_type": "markdown",
   "id": "0baa4502",
   "metadata": {},
   "source": [
    "### Add Subtraction Function"
   ]
  },
  {
   "cell_type": "markdown",
   "id": "40e882b6",
   "metadata": {},
   "source": []
  }
 ],
 "metadata": {
  "kernelspec": {
   "display_name": "test",
   "language": "python",
   "name": "python3"
  },
  "language_info": {
   "codemirror_mode": {
    "name": "ipython",
    "version": 3
   },
   "file_extension": ".py",
   "mimetype": "text/x-python",
   "name": "python",
   "nbconvert_exporter": "python",
   "pygments_lexer": "ipython3",
   "version": "3.10.18"
  }
 },
 "nbformat": 4,
 "nbformat_minor": 5
}
