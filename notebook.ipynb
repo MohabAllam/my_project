{
 "cells": [
  {
   "cell_type": "markdown",
   "id": "f32334d5",
   "metadata": {},
   "source": [
    "### Add Summ Function"
   ]
  },
  {
   "cell_type": "code",
   "execution_count": 2,
   "id": "dbf8a1be",
   "metadata": {},
   "outputs": [
    {
     "data": {
      "text/plain": [
       "15"
      ]
     },
     "execution_count": 2,
     "metadata": {},
     "output_type": "execute_result"
    }
   ],
   "source": [
    "def summ(x, y):\n",
    "    return x + y\n",
    "\n",
    "summ(10, 5)"
   ]
  },
  {
   "cell_type": "markdown",
   "id": "0baa4502",
   "metadata": {},
   "source": [
    "### Add Subtraction Function"
   ]
  },
  {
   "cell_type": "code",
   "execution_count": 3,
   "id": "47367143",
   "metadata": {},
   "outputs": [
    {
     "data": {
      "text/plain": [
       "5"
      ]
     },
     "execution_count": 3,
     "metadata": {},
     "output_type": "execute_result"
    }
   ],
   "source": [
    "def subtract(x, y):\n",
    "\n",
    "    return x - y\n",
    "\n",
    "subtract(10, 5)"
   ]
  },
  {
   "cell_type": "markdown",
   "id": "df1ed483",
   "metadata": {},
   "source": [
    "### Add Mult Function"
   ]
  },
  {
   "cell_type": "code",
   "execution_count": 4,
   "id": "646d1975",
   "metadata": {},
   "outputs": [
    {
     "data": {
      "text/plain": [
       "50"
      ]
     },
     "execution_count": 4,
     "metadata": {},
     "output_type": "execute_result"
    }
   ],
   "source": [
    "def subtract(x, y):\n",
    "\n",
    "    return x * y\n",
    "\n",
    "subtract(10, 5)"
   ]
  },
  {
   "cell_type": "markdown",
   "id": "7cbafd1d",
   "metadata": {},
   "source": [
    "### Add Division Function"
   ]
  },
  {
   "cell_type": "code",
   "execution_count": 5,
   "id": "63178dbc",
   "metadata": {},
   "outputs": [
    {
     "data": {
      "text/plain": [
       "2.0"
      ]
     },
     "execution_count": 5,
     "metadata": {},
     "output_type": "execute_result"
    }
   ],
   "source": [
    "def subtract(x, y):\n",
    "\n",
    "    return x / y\n",
    "\n",
    "subtract(10, 5)"
   ]
  }
 ],
 "metadata": {
  "kernelspec": {
   "display_name": "test",
   "language": "python",
   "name": "python3"
  },
  "language_info": {
   "codemirror_mode": {
    "name": "ipython",
    "version": 3
   },
   "file_extension": ".py",
   "mimetype": "text/x-python",
   "name": "python",
   "nbconvert_exporter": "python",
   "pygments_lexer": "ipython3",
   "version": "3.10.18"
  }
 },
 "nbformat": 4,
 "nbformat_minor": 5
}
